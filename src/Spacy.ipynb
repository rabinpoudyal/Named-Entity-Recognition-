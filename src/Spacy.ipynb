{
 "cells": [
  {
   "cell_type": "code",
   "execution_count": 45,
   "metadata": {},
   "outputs": [],
   "source": [
    "import spacy\n",
    "import json\n",
    "import pandas as pd"
   ]
  },
  {
   "cell_type": "code",
   "execution_count": 46,
   "metadata": {},
   "outputs": [],
   "source": [
    "data_location = '../data/json_dumps/11481.json'\n",
    "#article_location = '../data/article.json'\n",
    "with open(data_location, 'r', encoding='utf8', errors='ignore') as json_file:\n",
    "    data = json.load(json_file)\n",
    "    snippets_array = data['article']['snippets']"
   ]
  },
  {
   "cell_type": "code",
   "execution_count": 47,
   "metadata": {},
   "outputs": [],
   "source": [
    "nlp = spacy.load(\"en_core_web_md\")"
   ]
  },
  {
   "cell_type": "code",
   "execution_count": 48,
   "metadata": {},
   "outputs": [],
   "source": [
    "sentence_array = []\n",
    "ids = []\n",
    "for item in snippets_array:\n",
    "    if 'text' in item:\n",
    "        data = item['text']\n",
    "        id_val = item['id']\n",
    "        if len(data) < 50:\n",
    "            sentence_array.append(data)\n",
    "            ids.append(id_val)\n",
    "dataframe = pd.DataFrame(zip(ids,sentence_array), columns=['id','Sentence'])"
   ]
  },
  {
   "cell_type": "code",
   "execution_count": 49,
   "metadata": {},
   "outputs": [
    {
     "data": {
      "text/html": [
       "<div>\n",
       "<style scoped>\n",
       "    .dataframe tbody tr th:only-of-type {\n",
       "        vertical-align: middle;\n",
       "    }\n",
       "\n",
       "    .dataframe tbody tr th {\n",
       "        vertical-align: top;\n",
       "    }\n",
       "\n",
       "    .dataframe thead th {\n",
       "        text-align: right;\n",
       "    }\n",
       "</style>\n",
       "<table border=\"1\" class=\"dataframe\">\n",
       "  <thead>\n",
       "    <tr style=\"text-align: right;\">\n",
       "      <th></th>\n",
       "      <th>id</th>\n",
       "      <th>Sentence</th>\n",
       "    </tr>\n",
       "  </thead>\n",
       "  <tbody>\n",
       "    <tr>\n",
       "      <th>0</th>\n",
       "      <td>187637</td>\n",
       "      <td>1)\\tCatch the indie scene at Route 196</td>\n",
       "    </tr>\n",
       "    <tr>\n",
       "      <th>1</th>\n",
       "      <td>187640</td>\n",
       "      <td>2)\\tGo clubbing at Black Market</td>\n",
       "    </tr>\n",
       "    <tr>\n",
       "      <th>2</th>\n",
       "      <td>187643</td>\n",
       "      <td>3)\\tDine and drink at The Yard</td>\n",
       "    </tr>\n",
       "    <tr>\n",
       "      <th>3</th>\n",
       "      <td>187646</td>\n",
       "      <td>4)\\tGo shopping at a night market</td>\n",
       "    </tr>\n",
       "    <tr>\n",
       "      <th>4</th>\n",
       "      <td>187649</td>\n",
       "      <td>5)\\tLaugh out loud at Zirkoh</td>\n",
       "    </tr>\n",
       "    <tr>\n",
       "      <th>5</th>\n",
       "      <td>187652</td>\n",
       "      <td>6)\\tSing your heart out at Red Box</td>\n",
       "    </tr>\n",
       "    <tr>\n",
       "      <th>6</th>\n",
       "      <td>187655</td>\n",
       "      <td>7)\\tFeast at Mercato</td>\n",
       "    </tr>\n",
       "    <tr>\n",
       "      <th>7</th>\n",
       "      <td>187657</td>\n",
       "      <td>8)\\tWatch an indie film at Teatrino</td>\n",
       "    </tr>\n",
       "    <tr>\n",
       "      <th>8</th>\n",
       "      <td>187660</td>\n",
       "      <td>9)\\tCheer on your favorite team at Skinny Mike’s</td>\n",
       "    </tr>\n",
       "    <tr>\n",
       "      <th>9</th>\n",
       "      <td>187663</td>\n",
       "      <td>10)\\tTry your luck at City of Dreams</td>\n",
       "    </tr>\n",
       "    <tr>\n",
       "      <th>10</th>\n",
       "      <td>187666</td>\n",
       "      <td>The Manila nightlife scene</td>\n",
       "    </tr>\n",
       "  </tbody>\n",
       "</table>\n",
       "</div>"
      ],
      "text/plain": [
       "        id                                          Sentence\n",
       "0   187637           1)\\tCatch the indie scene at Route 196 \n",
       "1   187640                   2)\\tGo clubbing at Black Market\n",
       "2   187643                    3)\\tDine and drink at The Yard\n",
       "3   187646                 4)\\tGo shopping at a night market\n",
       "4   187649                      5)\\tLaugh out loud at Zirkoh\n",
       "5   187652                6)\\tSing your heart out at Red Box\n",
       "6   187655                              7)\\tFeast at Mercato\n",
       "7   187657               8)\\tWatch an indie film at Teatrino\n",
       "8   187660  9)\\tCheer on your favorite team at Skinny Mike’s\n",
       "9   187663              10)\\tTry your luck at City of Dreams\n",
       "10  187666                        The Manila nightlife scene"
      ]
     },
     "execution_count": 49,
     "metadata": {},
     "output_type": "execute_result"
    }
   ],
   "source": [
    "dataframe"
   ]
  },
  {
   "cell_type": "code",
   "execution_count": 50,
   "metadata": {},
   "outputs": [
    {
     "name": "stdout",
     "output_type": "stream",
     "text": [
      "The total number of entities detected were:6\n"
     ]
    },
    {
     "data": {
      "text/html": [
       "<div>\n",
       "<style scoped>\n",
       "    .dataframe tbody tr th:only-of-type {\n",
       "        vertical-align: middle;\n",
       "    }\n",
       "\n",
       "    .dataframe tbody tr th {\n",
       "        vertical-align: top;\n",
       "    }\n",
       "\n",
       "    .dataframe thead th {\n",
       "        text-align: right;\n",
       "    }\n",
       "</style>\n",
       "<table border=\"1\" class=\"dataframe\">\n",
       "  <thead>\n",
       "    <tr style=\"text-align: right;\">\n",
       "      <th></th>\n",
       "      <th>Id</th>\n",
       "      <th>Activity At</th>\n",
       "      <th>Activity Description</th>\n",
       "    </tr>\n",
       "  </thead>\n",
       "  <tbody>\n",
       "    <tr>\n",
       "      <th>0</th>\n",
       "      <td>187637</td>\n",
       "      <td>Route 196</td>\n",
       "      <td>Buildings, airports, highways, bridges, etc.</td>\n",
       "    </tr>\n",
       "    <tr>\n",
       "      <th>1</th>\n",
       "      <td>187640</td>\n",
       "      <td>Black Market</td>\n",
       "      <td>Buildings, airports, highways, bridges, etc.</td>\n",
       "    </tr>\n",
       "    <tr>\n",
       "      <th>2</th>\n",
       "      <td>187649</td>\n",
       "      <td>Zirkoh</td>\n",
       "      <td>Companies, agencies, institutions, etc.</td>\n",
       "    </tr>\n",
       "    <tr>\n",
       "      <th>3</th>\n",
       "      <td>187655</td>\n",
       "      <td>Mercato</td>\n",
       "      <td>Companies, agencies, institutions, etc.</td>\n",
       "    </tr>\n",
       "    <tr>\n",
       "      <th>4</th>\n",
       "      <td>187657</td>\n",
       "      <td>Teatrino</td>\n",
       "      <td>Countries, cities, states</td>\n",
       "    </tr>\n",
       "    <tr>\n",
       "      <th>5</th>\n",
       "      <td>187666</td>\n",
       "      <td>Manila</td>\n",
       "      <td>Countries, cities, states</td>\n",
       "    </tr>\n",
       "  </tbody>\n",
       "</table>\n",
       "</div>"
      ],
      "text/plain": [
       "       Id   Activity At                          Activity Description\n",
       "0  187637     Route 196  Buildings, airports, highways, bridges, etc.\n",
       "1  187640  Black Market  Buildings, airports, highways, bridges, etc.\n",
       "2  187649        Zirkoh       Companies, agencies, institutions, etc.\n",
       "3  187655       Mercato       Companies, agencies, institutions, etc.\n",
       "4  187657      Teatrino                     Countries, cities, states\n",
       "5  187666        Manila                     Countries, cities, states"
      ]
     },
     "execution_count": 50,
     "metadata": {},
     "output_type": "execute_result"
    }
   ],
   "source": [
    "entities=[]\n",
    "type_entity=[]\n",
    "sentences=[]\n",
    "sentence_id = []\n",
    "only_places = ['FAC', 'GPE', 'ORG']\n",
    "sample = list(dataframe['Sentence'])\n",
    "sample_ids = list(dataframe['id'])\n",
    "for sent in sample:\n",
    "    parsed_sentence=nlp(sent)\n",
    "    for ent in parsed_sentence.ents:\n",
    "        if ent.text not in entities:\n",
    "            if ent.label_ in only_places:\n",
    "                entities.append(ent.text)\n",
    "                sentences.append(sent)\n",
    "                type_entity.append(spacy.explain(ent.label_))\n",
    "                sentence_id.append(sample_ids[sample.index(sent)])\n",
    "Entities=pd.DataFrame({'Id': sentence_id,'Activity At':entities,'Activity Description':type_entity})\n",
    "print('The total number of entities detected were:{}'.format(len(Entities)))\n",
    "Entities"
   ]
  },
  {
   "cell_type": "code",
   "execution_count": 51,
   "metadata": {},
   "outputs": [
    {
     "data": {
      "text/plain": [
       "'Buildings, airports, highways, bridges, etc.'"
      ]
     },
     "execution_count": 51,
     "metadata": {},
     "output_type": "execute_result"
    }
   ],
   "source": [
    "spacy.explain('FAC')"
   ]
  },
  {
   "cell_type": "code",
   "execution_count": 52,
   "metadata": {},
   "outputs": [
    {
     "data": {
      "text/plain": [
       "'Nationalities or religious or political groups'"
      ]
     },
     "execution_count": 52,
     "metadata": {},
     "output_type": "execute_result"
    }
   ],
   "source": [
    "spacy.explain('NORP')"
   ]
  },
  {
   "cell_type": "code",
   "execution_count": 53,
   "metadata": {},
   "outputs": [
    {
     "data": {
      "text/plain": [
       "'[{\"Id\":187637,\"Activity At\":\"Route 196\",\"Activity Description\":\"Buildings, airports, highways, bridges, etc.\"},{\"Id\":187640,\"Activity At\":\"Black Market\",\"Activity Description\":\"Buildings, airports, highways, bridges, etc.\"},{\"Id\":187649,\"Activity At\":\"Zirkoh\",\"Activity Description\":\"Companies, agencies, institutions, etc.\"},{\"Id\":187655,\"Activity At\":\"Mercato\",\"Activity Description\":\"Companies, agencies, institutions, etc.\"},{\"Id\":187657,\"Activity At\":\"Teatrino\",\"Activity Description\":\"Countries, cities, states\"},{\"Id\":187666,\"Activity At\":\"Manila\",\"Activity Description\":\"Countries, cities, states\"}]'"
      ]
     },
     "execution_count": 53,
     "metadata": {},
     "output_type": "execute_result"
    }
   ],
   "source": [
    "Entities.to_json(orient='records')"
   ]
  },
  {
   "cell_type": "code",
   "execution_count": 54,
   "metadata": {},
   "outputs": [
    {
     "name": "stdout",
     "output_type": "stream",
     "text": [
      "Catch\n",
      "Go clubbing\n",
      "clubbing\n",
      "Go shopping\n",
      "shopping\n",
      "Laugh\n",
      "Sing\n",
      "Watch\n",
      "Try\n"
     ]
    }
   ],
   "source": [
    "from spacy.matcher import Matcher\n",
    "matcher = Matcher(nlp.vocab)\n",
    "pattern = [{'POS': 'VERB', 'OP': '+'}, {'POS': 'CONJ', 'OP': '?'}, {'POS': 'VERB', 'OP': '?'}]\n",
    "matcher.add(\"Matching\", None, pattern)\n",
    "activity = []\n",
    "activity_ids = []\n",
    "for item in sample:\n",
    "    doc = nlp(item)\n",
    "    matches = matcher(doc)\n",
    "    for match_id, start, end in matches:\n",
    "        string_id = nlp.vocab.strings[match_id]  \n",
    "        span = doc[start:end]  # The matched span\n",
    "        print(span.text)\n",
    "        activity.append(span.text)\n",
    "        activity_ids.append(sample_ids[sample.index(item)])"
   ]
  },
  {
   "cell_type": "code",
   "execution_count": 55,
   "metadata": {},
   "outputs": [],
   "source": [
    "activity_df = pd.DataFrame(zip(activity_ids, activity), columns=['Id','Activity'])"
   ]
  },
  {
   "cell_type": "code",
   "execution_count": 56,
   "metadata": {},
   "outputs": [
    {
     "data": {
      "text/html": [
       "<div>\n",
       "<style scoped>\n",
       "    .dataframe tbody tr th:only-of-type {\n",
       "        vertical-align: middle;\n",
       "    }\n",
       "\n",
       "    .dataframe tbody tr th {\n",
       "        vertical-align: top;\n",
       "    }\n",
       "\n",
       "    .dataframe thead th {\n",
       "        text-align: right;\n",
       "    }\n",
       "</style>\n",
       "<table border=\"1\" class=\"dataframe\">\n",
       "  <thead>\n",
       "    <tr style=\"text-align: right;\">\n",
       "      <th></th>\n",
       "      <th>Id</th>\n",
       "      <th>Activity</th>\n",
       "    </tr>\n",
       "  </thead>\n",
       "  <tbody>\n",
       "    <tr>\n",
       "      <th>0</th>\n",
       "      <td>187637</td>\n",
       "      <td>Catch</td>\n",
       "    </tr>\n",
       "    <tr>\n",
       "      <th>1</th>\n",
       "      <td>187640</td>\n",
       "      <td>Go clubbing</td>\n",
       "    </tr>\n",
       "    <tr>\n",
       "      <th>2</th>\n",
       "      <td>187640</td>\n",
       "      <td>clubbing</td>\n",
       "    </tr>\n",
       "    <tr>\n",
       "      <th>3</th>\n",
       "      <td>187646</td>\n",
       "      <td>Go shopping</td>\n",
       "    </tr>\n",
       "    <tr>\n",
       "      <th>4</th>\n",
       "      <td>187646</td>\n",
       "      <td>shopping</td>\n",
       "    </tr>\n",
       "    <tr>\n",
       "      <th>5</th>\n",
       "      <td>187649</td>\n",
       "      <td>Laugh</td>\n",
       "    </tr>\n",
       "    <tr>\n",
       "      <th>6</th>\n",
       "      <td>187652</td>\n",
       "      <td>Sing</td>\n",
       "    </tr>\n",
       "    <tr>\n",
       "      <th>7</th>\n",
       "      <td>187657</td>\n",
       "      <td>Watch</td>\n",
       "    </tr>\n",
       "    <tr>\n",
       "      <th>8</th>\n",
       "      <td>187663</td>\n",
       "      <td>Try</td>\n",
       "    </tr>\n",
       "  </tbody>\n",
       "</table>\n",
       "</div>"
      ],
      "text/plain": [
       "       Id     Activity\n",
       "0  187637        Catch\n",
       "1  187640  Go clubbing\n",
       "2  187640     clubbing\n",
       "3  187646  Go shopping\n",
       "4  187646     shopping\n",
       "5  187649        Laugh\n",
       "6  187652         Sing\n",
       "7  187657        Watch\n",
       "8  187663          Try"
      ]
     },
     "execution_count": 56,
     "metadata": {},
     "output_type": "execute_result"
    }
   ],
   "source": [
    "activity_df"
   ]
  },
  {
   "cell_type": "code",
   "execution_count": 57,
   "metadata": {},
   "outputs": [],
   "source": [
    "final_json = Entities.merge(activity_df, left_on='Id', right_on='Id')"
   ]
  },
  {
   "cell_type": "code",
   "execution_count": 58,
   "metadata": {},
   "outputs": [
    {
     "data": {
      "text/plain": [
       "'[{\"Id\":187637,\"Activity At\":\"Route 196\",\"Activity Description\":\"Buildings, airports, highways, bridges, etc.\",\"Activity\":\"Catch\"},{\"Id\":187640,\"Activity At\":\"Black Market\",\"Activity Description\":\"Buildings, airports, highways, bridges, etc.\",\"Activity\":\"Go clubbing\"},{\"Id\":187640,\"Activity At\":\"Black Market\",\"Activity Description\":\"Buildings, airports, highways, bridges, etc.\",\"Activity\":\"clubbing\"},{\"Id\":187649,\"Activity At\":\"Zirkoh\",\"Activity Description\":\"Companies, agencies, institutions, etc.\",\"Activity\":\"Laugh\"},{\"Id\":187657,\"Activity At\":\"Teatrino\",\"Activity Description\":\"Countries, cities, states\",\"Activity\":\"Watch\"}]'"
      ]
     },
     "execution_count": 58,
     "metadata": {},
     "output_type": "execute_result"
    }
   ],
   "source": [
    "final_json.to_json(orient='records')"
   ]
  },
  {
   "cell_type": "code",
   "execution_count": 59,
   "metadata": {},
   "outputs": [
    {
     "data": {
      "text/html": [
       "<div>\n",
       "<style scoped>\n",
       "    .dataframe tbody tr th:only-of-type {\n",
       "        vertical-align: middle;\n",
       "    }\n",
       "\n",
       "    .dataframe tbody tr th {\n",
       "        vertical-align: top;\n",
       "    }\n",
       "\n",
       "    .dataframe thead th {\n",
       "        text-align: right;\n",
       "    }\n",
       "</style>\n",
       "<table border=\"1\" class=\"dataframe\">\n",
       "  <thead>\n",
       "    <tr style=\"text-align: right;\">\n",
       "      <th></th>\n",
       "      <th>Id</th>\n",
       "      <th>Activity At</th>\n",
       "      <th>Activity Description</th>\n",
       "      <th>Activity</th>\n",
       "    </tr>\n",
       "  </thead>\n",
       "  <tbody>\n",
       "    <tr>\n",
       "      <th>0</th>\n",
       "      <td>187637</td>\n",
       "      <td>Route 196</td>\n",
       "      <td>Buildings, airports, highways, bridges, etc.</td>\n",
       "      <td>Catch</td>\n",
       "    </tr>\n",
       "    <tr>\n",
       "      <th>1</th>\n",
       "      <td>187640</td>\n",
       "      <td>Black Market</td>\n",
       "      <td>Buildings, airports, highways, bridges, etc.</td>\n",
       "      <td>Go clubbing</td>\n",
       "    </tr>\n",
       "    <tr>\n",
       "      <th>2</th>\n",
       "      <td>187640</td>\n",
       "      <td>Black Market</td>\n",
       "      <td>Buildings, airports, highways, bridges, etc.</td>\n",
       "      <td>clubbing</td>\n",
       "    </tr>\n",
       "    <tr>\n",
       "      <th>3</th>\n",
       "      <td>187649</td>\n",
       "      <td>Zirkoh</td>\n",
       "      <td>Companies, agencies, institutions, etc.</td>\n",
       "      <td>Laugh</td>\n",
       "    </tr>\n",
       "    <tr>\n",
       "      <th>4</th>\n",
       "      <td>187657</td>\n",
       "      <td>Teatrino</td>\n",
       "      <td>Countries, cities, states</td>\n",
       "      <td>Watch</td>\n",
       "    </tr>\n",
       "  </tbody>\n",
       "</table>\n",
       "</div>"
      ],
      "text/plain": [
       "       Id   Activity At                          Activity Description  \\\n",
       "0  187637     Route 196  Buildings, airports, highways, bridges, etc.   \n",
       "1  187640  Black Market  Buildings, airports, highways, bridges, etc.   \n",
       "2  187640  Black Market  Buildings, airports, highways, bridges, etc.   \n",
       "3  187649        Zirkoh       Companies, agencies, institutions, etc.   \n",
       "4  187657      Teatrino                     Countries, cities, states   \n",
       "\n",
       "      Activity  \n",
       "0        Catch  \n",
       "1  Go clubbing  \n",
       "2     clubbing  \n",
       "3        Laugh  \n",
       "4        Watch  "
      ]
     },
     "execution_count": 59,
     "metadata": {},
     "output_type": "execute_result"
    }
   ],
   "source": [
    "final_json"
   ]
  }
 ],
 "metadata": {
  "kernelspec": {
   "display_name": "Python 3",
   "language": "python",
   "name": "python3"
  },
  "language_info": {
   "codemirror_mode": {
    "name": "ipython",
    "version": 3
   },
   "file_extension": ".py",
   "mimetype": "text/x-python",
   "name": "python",
   "nbconvert_exporter": "python",
   "pygments_lexer": "ipython3",
   "version": "3.7.3"
  }
 },
 "nbformat": 4,
 "nbformat_minor": 2
}
